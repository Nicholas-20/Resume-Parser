{
  "nbformat": 4,
  "nbformat_minor": 0,
  "metadata": {
    "colab": {
      "provenance": []
    },
    "kernelspec": {
      "name": "python3",
      "display_name": "Python 3"
    },
    "language_info": {
      "name": "python"
    }
  },
  "cells": [
    {
      "cell_type": "code",
      "execution_count": 2,
      "metadata": {
        "colab": {
          "base_uri": "https://localhost:8080/"
        },
        "collapsed": true,
        "id": "4M4RhIutXOyI",
        "outputId": "1e85d6bf-bdde-48a0-fcf0-2b7204b31e24"
      },
      "outputs": [
        {
          "output_type": "stream",
          "name": "stdout",
          "text": [
            "Collecting docx2txt\n",
            "  Downloading docx2txt-0.8.tar.gz (2.8 kB)\n",
            "  Preparing metadata (setup.py) ... \u001b[?25l\u001b[?25hdone\n",
            "Building wheels for collected packages: docx2txt\n",
            "  Building wheel for docx2txt (setup.py) ... \u001b[?25l\u001b[?25hdone\n",
            "  Created wheel for docx2txt: filename=docx2txt-0.8-py3-none-any.whl size=3959 sha256=3da2c36edaff5ef45ae48dc496cc81f67b7664ac10ce28f082533e99c69e18ce\n",
            "  Stored in directory: /root/.cache/pip/wheels/22/58/cf/093d0a6c3ecfdfc5f6ddd5524043b88e59a9a199cb02352966\n",
            "Successfully built docx2txt\n",
            "Installing collected packages: docx2txt\n",
            "Successfully installed docx2txt-0.8\n"
          ]
        }
      ],
      "source": [
        "pip install docx2txt"
      ]
    },
    {
      "cell_type": "code",
      "source": [
        "import docx2txt"
      ],
      "metadata": {
        "id": "MhUWIdr-hVsm"
      },
      "execution_count": 3,
      "outputs": []
    },
    {
      "cell_type": "code",
      "source": [
        "resume=docx2txt.process(\"/content/Resume1.docx\")"
      ],
      "metadata": {
        "id": "X9j2SSoVheSG"
      },
      "execution_count": 46,
      "outputs": []
    },
    {
      "cell_type": "code",
      "source": [
        "requirement=docx2txt.process(\"/content/Requirements.docx\")"
      ],
      "metadata": {
        "id": "kWjCXInLkC31"
      },
      "execution_count": 47,
      "outputs": []
    },
    {
      "cell_type": "code",
      "source": [
        "print(resume)"
      ],
      "metadata": {
        "colab": {
          "base_uri": "https://localhost:8080/"
        },
        "collapsed": true,
        "id": "nN-CDANhiD5u",
        "outputId": "4fac86be-a8f9-40ff-919d-6fff101ab857"
      },
      "execution_count": 48,
      "outputs": [
        {
          "output_type": "stream",
          "name": "stdout",
          "text": [
            "Nicholas\n",
            "\n",
            "Lorem ipsum dolor sit amet, consectetuer adipiscing elit\n",
            "\n",
            "123 Your Street\n",
            "\n",
            "Your City, ST 12345\n",
            "\n",
            "(123) 456-7890\n",
            "\n",
            "no_reply@example.com\n",
            "\n",
            "EXPERIENCE\n",
            "\n",
            "sCREENIT, Chennai— Senior Software Engineer\n",
            "\n",
            "Apr2023 - PRESENT\n",
            "\n",
            "Lorem ipsum dolor sit amet, consectetuer adipiscing elit, sed diam nonummy nibh 1.\n",
            "\n",
            "TRUETECH, Bangalore— Developer\n",
            "\n",
            "APR 2022 - MAR 2023\n",
            "\n",
            "Lorem ipsum dolor sit amet, consectetuer adipiscing elit, sed diam nonummy nibh 2.\n",
            "\n",
            "FFS, Kolkata— Design Engineer\n",
            "\n",
            "jAN 2019 - dEC 2022\n",
            "\n",
            "Lorem ipsum dolor sit amet, consectetuer adipiscing elit, sed diam nonummy nibh 3.\n",
            "\n",
            "EDUCATION\n",
            "\n",
            "oXFORD,  cHENNAI— BTECH\n",
            "\n",
            "JUN 2014 - AUG 2018\n",
            "\n",
            "Lorem ipsum dolor sit amet, consectetuer adipiscing elit, sed diam nonummy nibh euismod tincidunt ut laoreet dolore.\n",
            "\n",
            "SAMPLE SCHOOL Name, ANDRA— HSC\n",
            "\n",
            "MONTH 20XX - MONTH 20XX\n",
            "\n",
            "Lorem ipsum dolor sit amet, consectetuer adipiscing elit, sed diam.\n",
            "\n",
            "PROJECTS\n",
            "\n",
            "Project Name — Detail\n",
            "\n",
            "Lorem ipsum dolor sit amet, consectetuer adipiscing elit.\n",
            "\n",
            "SKILLS\n",
            "\n",
            "Python\n",
            "\n",
            "PostgreSQL\n",
            "\n",
            "AWS Lambda\n",
            "\n",
            "Typescript\n",
            "\n",
            "JavaScript\n",
            "\n",
            "HTML\n",
            "\n",
            "AWARDS\n",
            "\n",
            "Lorem ipsum dolor sit amet Consectetuer adipiscing elit, Sed diam nonummy\n",
            "\n",
            "Nibh euismod tincidunt ut laoreet dolore magna aliquam erat volutpat.\n",
            "\n",
            "Lorem ipsum dolor sit amet Consectetuer adipiscing elit, Sed diam nonummy\n",
            "\n",
            "Nibh euismod tincidunt ut laoreet dolore magna aliquam erat volutpat.\n",
            "\n",
            "LANGUAGES\n",
            "\n",
            "Lorem ipsum, Dolor sit amet, Consectetuer\n"
          ]
        }
      ]
    },
    {
      "cell_type": "code",
      "source": [
        "print(requirement)"
      ],
      "metadata": {
        "colab": {
          "base_uri": "https://localhost:8080/"
        },
        "collapsed": true,
        "id": "6oy9Xt2DlP2a",
        "outputId": "b1e12212-3c97-455f-8884-d1edd2929749"
      },
      "execution_count": 49,
      "outputs": [
        {
          "output_type": "stream",
          "name": "stdout",
          "text": [
            "Python\n",
            "\n",
            "Generative AI\n",
            "\n",
            "Machine learning\n",
            "\n",
            "SQL\n",
            "\n",
            "JAVA\n",
            "\n",
            "HTML\n",
            "\n",
            "TABLEAU\n"
          ]
        }
      ]
    },
    {
      "cell_type": "code",
      "source": [
        "from sklearn.feature_extraction.text import CountVectorizer\n",
        "from sklearn.metrics.pairwise import cosine_similarity"
      ],
      "metadata": {
        "id": "Oq015LewiD-X"
      },
      "execution_count": 50,
      "outputs": []
    },
    {
      "cell_type": "code",
      "source": [
        "content=[requirement,resume]"
      ],
      "metadata": {
        "id": "q9RNKkH4iEBx"
      },
      "execution_count": 51,
      "outputs": []
    },
    {
      "cell_type": "code",
      "source": [
        "cv=CountVectorizer()\n",
        "matrix=cv.fit_transform(content)"
      ],
      "metadata": {
        "id": "-S9BL5Opkymz"
      },
      "execution_count": 52,
      "outputs": []
    },
    {
      "cell_type": "code",
      "source": [
        "similarity_matrix=cosine_similarity(matrix)"
      ],
      "metadata": {
        "id": "mC_o12iPkyqN"
      },
      "execution_count": 53,
      "outputs": []
    },
    {
      "cell_type": "code",
      "source": [
        "print(similarity_matrix)"
      ],
      "metadata": {
        "colab": {
          "base_uri": "https://localhost:8080/"
        },
        "id": "Hrgm2V86lHrt",
        "outputId": "fcef00c9-df14-422e-f9c5-b9e1a0c84009"
      },
      "execution_count": 54,
      "outputs": [
        {
          "output_type": "stream",
          "name": "stdout",
          "text": [
            "[[1.         0.02031425]\n",
            " [0.02031425 1.        ]]\n"
          ]
        }
      ]
    },
    {
      "cell_type": "markdown",
      "source": [],
      "metadata": {
        "id": "P3C7WjXmK0X7"
      }
    },
    {
      "cell_type": "markdown",
      "source": [],
      "metadata": {
        "id": "wD2OpDSRK0bU"
      }
    },
    {
      "cell_type": "code",
      "source": [
        "import docx2txt\n",
        "import re"
      ],
      "metadata": {
        "id": "J690CgSEHIVw"
      },
      "execution_count": 77,
      "outputs": []
    },
    {
      "cell_type": "code",
      "source": [
        "resume=docx2txt.process(\"/content/Resume1.docx\")"
      ],
      "metadata": {
        "id": "Fr1nVanhHIY0"
      },
      "execution_count": 78,
      "outputs": []
    },
    {
      "cell_type": "code",
      "source": [
        "pattern=re.compile(r'\\b[A-Za-z0-9._%+-]+@[A-Za-z0-9.-]+\\.[A-Z|a-z]{2,}\\b')"
      ],
      "metadata": {
        "id": "1CoiZ-uGHIbe"
      },
      "execution_count": 79,
      "outputs": []
    },
    {
      "cell_type": "code",
      "source": [
        "matches=pattern.finditer(resume)"
      ],
      "metadata": {
        "id": "-NdKoUeAHIen"
      },
      "execution_count": 80,
      "outputs": []
    },
    {
      "cell_type": "code",
      "source": [
        "for x in matches:\n",
        "    print(f\"email:-{x.group(0)}\")"
      ],
      "metadata": {
        "colab": {
          "base_uri": "https://localhost:8080/"
        },
        "id": "VofUfqz2HIhb",
        "outputId": "3f6f72ac-b1e7-4734-bf94-e7331653524a"
      },
      "execution_count": 81,
      "outputs": [
        {
          "output_type": "stream",
          "name": "stdout",
          "text": [
            "email:-no_reply@example.com\n"
          ]
        }
      ]
    },
    {
      "cell_type": "code",
      "source": [
        "pattern1=re.compile(r'(\\d{3}[-\\.\\s]??\\d{3}[-\\.\\s]??\\d{4}|\\(\\d{3}\\)\\s*\\d{3}[-\\.\\s]??\\d{4}|\\d{3}[-\\.\\s]??\\  d{4})')"
      ],
      "metadata": {
        "id": "ecGtLW1_HIne"
      },
      "execution_count": 82,
      "outputs": []
    },
    {
      "cell_type": "code",
      "source": [
        "matches1=pattern1.finditer(resume)"
      ],
      "metadata": {
        "id": "At3oz0UhHIqw"
      },
      "execution_count": 84,
      "outputs": []
    },
    {
      "cell_type": "code",
      "source": [
        "for y in matches1:\n",
        "    print(f\"phone number:-{y.group(0)}\")"
      ],
      "metadata": {
        "colab": {
          "base_uri": "https://localhost:8080/"
        },
        "id": "DNw0EHI2HItc",
        "outputId": "197749f1-0d11-473a-c053-1b39af95aaae"
      },
      "execution_count": 85,
      "outputs": [
        {
          "output_type": "stream",
          "name": "stdout",
          "text": [
            "phone number:-(123) 456-7890\n"
          ]
        }
      ]
    },
    {
      "cell_type": "code",
      "source": [
        "import nltk\n",
        "from nltk.corpus import stopwords"
      ],
      "metadata": {
        "id": "4ZMDsT8zHIw_"
      },
      "execution_count": 87,
      "outputs": []
    },
    {
      "cell_type": "code",
      "source": [
        "nltk.download('punkt')\n",
        "nltk.download('averahe_perceptron_tagger')\n",
        "nltk.download('stopwords')"
      ],
      "metadata": {
        "colab": {
          "base_uri": "https://localhost:8080/"
        },
        "id": "ggltKRrjPu81",
        "outputId": "398bd913-e615-4f82-e480-8e41edc222e4"
      },
      "execution_count": 91,
      "outputs": [
        {
          "output_type": "stream",
          "name": "stderr",
          "text": [
            "[nltk_data] Downloading package punkt to /root/nltk_data...\n",
            "[nltk_data]   Unzipping tokenizers/punkt.zip.\n",
            "[nltk_data] Error loading averahe_perceptron_tagger: Package\n",
            "[nltk_data]     'averahe_perceptron_tagger' not found in index\n",
            "[nltk_data] Downloading package stopwords to /root/nltk_data...\n",
            "[nltk_data]   Package stopwords is already up-to-date!\n"
          ]
        },
        {
          "output_type": "execute_result",
          "data": {
            "text/plain": [
              "True"
            ]
          },
          "metadata": {},
          "execution_count": 91
        }
      ]
    },
    {
      "cell_type": "code",
      "source": [
        "skills_DB=['typescript','machine learning','data science', 'python', 'sql', 'nlp','matplotlib','javascript','html','postgresql']"
      ],
      "metadata": {
        "id": "R9VsZKNFOoEq"
      },
      "execution_count": 125,
      "outputs": []
    },
    {
      "cell_type": "code",
      "source": [
        "def extract_skills(input_text):\n",
        "    stop_words=set(stopwords.words('english'))\n",
        "    word_tokens=nltk.tokenize.word_tokenize(input_text)\n",
        "    filtered_tokens=[w for w in word_tokens if w not in stop_words]\n",
        "    filtered_tokens=[w for w in word_tokens if w.isalpha()]\n",
        "    skillset=[]\n",
        "    for token in filtered_tokens:\n",
        "        if token.lower() in skills_DB:\n",
        "            skillset.append(token)\n",
        "\n",
        "    return [i.lower() for i in set(skillset)]"
      ],
      "metadata": {
        "id": "tbCLpz-lOoHX"
      },
      "execution_count": 126,
      "outputs": []
    },
    {
      "cell_type": "code",
      "source": [
        "if __name__=='__main__':\n",
        "    skills=extract_skills(resume)\n",
        "if skills:\n",
        "    print(\"skills found:-\"+ str(skills))"
      ],
      "metadata": {
        "colab": {
          "base_uri": "https://localhost:8080/"
        },
        "id": "mq9wvy0bOoKV",
        "outputId": "b197e1bd-fd18-4427-f091-eca27146156a"
      },
      "execution_count": 127,
      "outputs": [
        {
          "output_type": "stream",
          "name": "stdout",
          "text": [
            "skills found:-['html', 'javascript', 'postgresql', 'python', 'typescript']\n"
          ]
        }
      ]
    },
    {
      "cell_type": "code",
      "source": [],
      "metadata": {
        "id": "uLoRoAGTOoNR"
      },
      "execution_count": 112,
      "outputs": []
    },
    {
      "cell_type": "code",
      "source": [],
      "metadata": {
        "id": "HGECtMSZOoQW"
      },
      "execution_count": null,
      "outputs": []
    },
    {
      "cell_type": "code",
      "source": [],
      "metadata": {
        "id": "xy1p7hiXOoSs"
      },
      "execution_count": null,
      "outputs": []
    },
    {
      "cell_type": "code",
      "source": [],
      "metadata": {
        "id": "2lDa_fUROoWR"
      },
      "execution_count": null,
      "outputs": []
    },
    {
      "cell_type": "markdown",
      "source": [],
      "metadata": {
        "id": "1vD7PW04sny_"
      }
    },
    {
      "cell_type": "markdown",
      "source": [],
      "metadata": {
        "id": "jf7rhYK6sn_P"
      }
    },
    {
      "cell_type": "code",
      "source": [
        "pip install PyPDF2"
      ],
      "metadata": {
        "colab": {
          "base_uri": "https://localhost:8080/"
        },
        "collapsed": true,
        "id": "e9gbR599lrHj",
        "outputId": "9b53756c-5f04-4dac-d98c-61ff59d36074"
      },
      "execution_count": 36,
      "outputs": [
        {
          "output_type": "stream",
          "name": "stdout",
          "text": [
            "Collecting PyPDF2\n",
            "  Downloading pypdf2-3.0.1-py3-none-any.whl.metadata (6.8 kB)\n",
            "Downloading pypdf2-3.0.1-py3-none-any.whl (232 kB)\n",
            "\u001b[2K   \u001b[90m━━━━━━━━━━━━━━━━━━━━━━━━━━━━━━━━━━━━━━━━\u001b[0m \u001b[32m232.6/232.6 kB\u001b[0m \u001b[31m2.1 MB/s\u001b[0m eta \u001b[36m0:00:00\u001b[0m\n",
            "\u001b[?25hInstalling collected packages: PyPDF2\n",
            "Successfully installed PyPDF2-3.0.1\n"
          ]
        }
      ]
    },
    {
      "cell_type": "code",
      "source": [
        "import PyPDF2\n",
        "import requests\n",
        "import json"
      ],
      "metadata": {
        "id": "XZGpCgVrlrLE"
      },
      "execution_count": 37,
      "outputs": []
    },
    {
      "cell_type": "code",
      "source": [
        "fFileObj = open('/content/Nicholas Nadar Resume .pdf', 'rb')\n",
        "pdfReader = PyPDF2.PdfReader(fFileObj)\n",
        "pageObj = pdfReader.pages[0]\n",
        "print(\"Total Pages : {} \".format(len(pdfReader.pages)))\n",
        "print(\"Page Object : {} \".format(pageObj))\n",
        "resume = pageObj.extract_text()"
      ],
      "metadata": {
        "colab": {
          "base_uri": "https://localhost:8080/"
        },
        "id": "7ESyTkznsqun",
        "outputId": "9650d161-ef49-405c-97d0-8fb10cc6a590"
      },
      "execution_count": 43,
      "outputs": [
        {
          "output_type": "stream",
          "name": "stdout",
          "text": [
            "Total Pages : 2 \n",
            "Page Object : {'/Type': '/Page', '/Resources': {'/ProcSet': ['/PDF', '/Text', '/ImageB', '/ImageC', '/ImageI'], '/ExtGState': {'/G3': IndirectObject(3, 0, 137064907254864), '/G11': IndirectObject(11, 0, 137064907254864), '/G13': IndirectObject(13, 0, 137064907254864), '/G14': IndirectObject(14, 0, 137064907254864), '/G15': IndirectObject(15, 0, 137064907254864), '/G18': IndirectObject(18, 0, 137064907254864), '/G21': IndirectObject(21, 0, 137064907254864), '/G24': IndirectObject(24, 0, 137064907254864), '/G27': IndirectObject(27, 0, 137064907254864), '/G30': IndirectObject(30, 0, 137064907254864), '/G33': IndirectObject(33, 0, 137064907254864)}, '/XObject': {'/X6': IndirectObject(6, 0, 137064907254864), '/X8': IndirectObject(8, 0, 137064907254864)}, '/Font': {'/F4': IndirectObject(4, 0, 137064907254864), '/F5': IndirectObject(5, 0, 137064907254864)}}, '/MediaBox': [0, 0, 595.91998, 842.88], '/Annots': [IndirectObject(34, 0, 137064907254864), IndirectObject(35, 0, 137064907254864), IndirectObject(36, 0, 137064907254864), IndirectObject(37, 0, 137064907254864), IndirectObject(38, 0, 137064907254864), IndirectObject(39, 0, 137064907254864), IndirectObject(40, 0, 137064907254864)], '/Contents': IndirectObject(41, 0, 137064907254864), '/StructParents': 0, '/Parent': IndirectObject(74, 0, 137064907254864)} \n"
          ]
        }
      ]
    },
    {
      "cell_type": "code",
      "source": [],
      "metadata": {
        "id": "9fvlgbHUsqyN"
      },
      "execution_count": null,
      "outputs": []
    }
  ]
}